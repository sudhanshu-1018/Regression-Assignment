{
 "cells": [
  {
   "cell_type": "code",
   "execution_count": null,
   "id": "deb3f4e5-df20-4b07-ae40-d84292cafe12",
   "metadata": {},
   "outputs": [],
   "source": [
    "'''\n",
    "1. What is Simple Linear Regression?\n",
    "It models the relationship between two variables: one independent variable (X) and one dependent variable (Y) using the equation:\n",
    "Y = mX + c\n",
    "\n",
    "'''\n",
    "\n"
   ]
  },
  {
   "cell_type": "code",
   "execution_count": null,
   "id": "91da13da-7ef1-46f4-9e46-763e25597a94",
   "metadata": {},
   "outputs": [],
   "source": [
    "'''\n",
    "2. What are the key assumptions of Simple Linear Regression?\n",
    "\n",
    " Linearity between X and Y\n",
    " Independence of observations\n",
    " Homoscedasticity (constant variance of residuals)\n",
    " Normality of residuals\n",
    " \n",
    "'''\n",
    "\n"
   ]
  },
  {
   "cell_type": "code",
   "execution_count": null,
   "id": "3ef3eb7a-51b4-41f6-a2b5-1e21730600db",
   "metadata": {},
   "outputs": [],
   "source": [
    "'''\n",
    "3. What does the coefficient m represent in the equation Y = mX + c?\n",
    "\n",
    "The slope: It indicates the change in Y for a one-unit increase in X.\n",
    "\n",
    "'''"
   ]
  },
  {
   "cell_type": "code",
   "execution_count": null,
   "id": "a50a27d2-0680-41d2-9f30-05b3f4e4ec15",
   "metadata": {},
   "outputs": [],
   "source": [
    "'''\n",
    "4. What does the intercept c represent in the equation Y = mX + c?\n",
    "\n",
    "The intercept: The value of Y when X = 0.\n",
    "'''"
   ]
  },
  {
   "cell_type": "code",
   "execution_count": null,
   "id": "320b3cb2-ba47-4e32-b191-fc2932e50658",
   "metadata": {},
   "outputs": [],
   "source": [
    "\n",
    "'''\n",
    "5. How do we calculate the slope m in Simple Linear Regression?\n",
    "\n",
    "\n",
    "m = \\frac{\\sum (X_i - \\bar{X})(Y_i - \\bar{Y})}{\\sum (X_i - \\bar{X})^2}\n",
    "'''\n",
    "\n",
    "\n",
    "\n"
   ]
  },
  {
   "cell_type": "code",
   "execution_count": null,
   "id": "c89699e1-097b-47cc-be5e-7cb19d5f26e5",
   "metadata": {},
   "outputs": [],
   "source": [
    "'''\n",
    "6. What is the purpose of the least squares method in Simple Linear Regression?\n",
    "To minimize the sum of squared residuals (differences between actual and predicted Y values).\n",
    "'''"
   ]
  },
  {
   "cell_type": "code",
   "execution_count": null,
   "id": "99272de3-d000-424b-89a9-3d2b70130945",
   "metadata": {},
   "outputs": [],
   "source": [
    "'''\n",
    "7. How is the coefficient of determination (R²) interpreted in Simple Linear Regression?\n",
    "R² indicates the proportion of variance in Y explained by X. Ranges from 0 to 1.\n",
    "\n",
    "'''"
   ]
  },
  {
   "cell_type": "code",
   "execution_count": null,
   "id": "888ddb8d-7103-40db-8e47-99c2db00ad51",
   "metadata": {},
   "outputs": [],
   "source": [
    "\n",
    "'''\n",
    "8. What is Multiple Linear Regression?\n",
    "A model that explains the relationship between one dependent variable and multiple independent variables:\n",
    "\n",
    "\n",
    "Y = b_0 + b_1X_1 + b_2X_2 + \\dots + b_nX_n\n",
    "\n",
    "'''\n"
   ]
  },
  {
   "cell_type": "code",
   "execution_count": null,
   "id": "9588c2a6-5d97-411d-b98e-17ddf5bef129",
   "metadata": {},
   "outputs": [],
   "source": [
    "'''\n",
    "9. What is the main difference between Simple and Multiple Linear Regression?\n",
    "Simple uses one predictor (X); multiple uses two or more predictors (X₁, X₂, ...).\n",
    "'''\n"
   ]
  },
  {
   "cell_type": "code",
   "execution_count": null,
   "id": "0b615872-3831-49e0-bfee-456022d07795",
   "metadata": {},
   "outputs": [],
   "source": [
    "'''10. What are the key assumptions of Multiple Linear Regression?\n",
    "\n",
    " Linearity\n",
    " Independence\n",
    " Homoscedasticity\n",
    " No multicollinearity\n",
    " Normal distribution of residuals\n",
    "'''\n"
   ]
  },
  {
   "cell_type": "code",
   "execution_count": null,
   "id": "1a2168ff-af15-4e79-9ef1-66fb52ff20be",
   "metadata": {},
   "outputs": [],
   "source": [
    "'''11. What is heteroscedasticity, and how does it affect the results?\n",
    "Heteroscedasticity means non-constant variance of residuals, which can lead to unreliable standard errors and biased inference (e.g., t-tests).\n",
    "\n",
    "'''"
   ]
  },
  {
   "cell_type": "code",
   "execution_count": null,
   "id": "e52726dd-29a1-4438-bf9e-d9031e1adef9",
   "metadata": {},
   "outputs": [],
   "source": [
    "'''12. How can you improve a Multiple Linear Regression model with high multicollinearity?\n",
    "\n",
    " Remove or combine correlated variables\n",
    " Use dimensionality reduction (e.g., PCA)\n",
    " Use regularization (Ridge or Lasso)\n",
    "'''\n"
   ]
  },
  {
   "cell_type": "code",
   "execution_count": null,
   "id": "2dfa6a03-3f50-4523-b6e2-520721159037",
   "metadata": {},
   "outputs": [],
   "source": [
    "'''13. What are common techniques for transforming categorical variables?\n",
    "\n",
    " One-hot encoding\n",
    " Label encoding\n",
    " Ordinal encoding (if categories have order)\n",
    "'''\n"
   ]
  },
  {
   "cell_type": "code",
   "execution_count": null,
   "id": "cdb4e489-5ef8-4e31-963f-7921837a768e",
   "metadata": {},
   "outputs": [],
   "source": [
    "'''14. What is the role of interaction terms?\n",
    "They model combined effects of variables (e.g., X₁ × X₂), capturing dependencies between predictors.\n",
    "\n",
    "'''"
   ]
  },
  {
   "cell_type": "code",
   "execution_count": null,
   "id": "920c9231-a3db-47db-9a6f-ae4b8d69cc22",
   "metadata": {},
   "outputs": [],
   "source": [
    "'''15. How can the interpretation of the intercept differ between Simple and Multiple Linear Regression?\n",
    "\n",
    " In simple: Y when X = 0\n",
    " In multiple: Y when all X variables = 0, which may or may not be meaningful\n",
    "\n",
    "'''"
   ]
  },
  {
   "cell_type": "code",
   "execution_count": null,
   "id": "931a5bce-bd5d-4805-bf69-a935be54e3a3",
   "metadata": {},
   "outputs": [],
   "source": [
    "'''16. What is the significance of the slope in regression analysis?\n",
    "Shows how Y changes with X. A positive slope: Y increases as X increases; negative: Y decreases.\n",
    "\n",
    "'''"
   ]
  },
  {
   "cell_type": "code",
   "execution_count": null,
   "id": "af402e62-dc74-4934-ad8b-9c9f10a20d68",
   "metadata": {},
   "outputs": [],
   "source": [
    "'''17. How does the intercept provide context?\n",
    "It anchors the regression line and shows the baseline value of Y when all predictors are zero.\n",
    "\n",
    "'''"
   ]
  },
  {
   "cell_type": "code",
   "execution_count": null,
   "id": "a92416e0-1408-4ba9-a577-e63d002cbb34",
   "metadata": {},
   "outputs": [],
   "source": [
    "'''18. What are the limitations of using R² alone?\n",
    "\n",
    " Does not indicate if a model is appropriate\n",
    " Always increases with more variables (even irrelevant ones)\n",
    " Doesn’t measure predictive power on unseen data\n",
    "'''\n"
   ]
  },
  {
   "cell_type": "code",
   "execution_count": null,
   "id": "d155a2b3-bd37-4a80-ae2c-b3285576b039",
   "metadata": {},
   "outputs": [],
   "source": [
    "'''19. How would you interpret a large standard error for a coefficient?\n",
    "The coefficient estimate is unstable or uncertain—it may not be significantly different from 0.\n",
    "\n",
    "'''"
   ]
  },
  {
   "cell_type": "code",
   "execution_count": null,
   "id": "e069422c-5897-4653-ba65-cea0be0dd851",
   "metadata": {},
   "outputs": [],
   "source": [
    "'''20. How can heteroscedasticity be identified in residual plots?\n",
    "By plotting residuals vs. predicted values: funnel shape or increasing spread indicates heteroscedasticity.\n",
    "'''\n"
   ]
  },
  {
   "cell_type": "code",
   "execution_count": null,
   "id": "cd55a526-a5ea-4e1d-b1a1-4d063003f7d4",
   "metadata": {},
   "outputs": [],
   "source": [
    "'''21. What does it mean if R² is high but adjusted R² is low?\n",
    "Many variables do not contribute meaningfully; the model is likely overfitting.\n",
    "\n",
    "'''"
   ]
  },
  {
   "cell_type": "code",
   "execution_count": null,
   "id": "2d86be17-134f-4ca5-8bbf-177f14ff6409",
   "metadata": {},
   "outputs": [],
   "source": [
    "'''22. Why is it important to scale variables in Multiple Linear Regression?\n",
    "Especially important when using regularization, and helps compare the importance of coefficients.\n",
    "'''\n"
   ]
  },
  {
   "cell_type": "code",
   "execution_count": null,
   "id": "daf3b8ec-b3ce-4bf0-929a-8c6c4229eac7",
   "metadata": {},
   "outputs": [],
   "source": [
    "'''\n",
    "\n",
    "23. What is polynomial regression?\n",
    "A regression technique where the relationship between X and Y is modeled as an nth-degree polynomial.\n",
    "'''\n"
   ]
  },
  {
   "cell_type": "code",
   "execution_count": null,
   "id": "f8bdc55f-90d6-470b-bf6a-82eba48c2a63",
   "metadata": {},
   "outputs": [],
   "source": [
    "'''24. How does polynomial regression differ from linear regression?\n",
    "\n",
    " Linear: Straight line\n",
    " Polynomial: Curve (nonlinear relationship, but still linear in coefficients)\n",
    "\n",
    "'''"
   ]
  },
  {
   "cell_type": "code",
   "execution_count": null,
   "id": "b4275db9-197c-46b9-8dae-5e1329c45962",
   "metadata": {},
   "outputs": [],
   "source": [
    "'''25. When is polynomial regression used?\n",
    "When the data shows a nonlinear relationship, but we still want to use a linear model framework.\n",
    "\n",
    "'''"
   ]
  },
  {
   "cell_type": "code",
   "execution_count": null,
   "id": "5bb1ecc3-a4ff-4768-916e-91a1f22ebfbe",
   "metadata": {},
   "outputs": [],
   "source": [
    "\n",
    "26. What is the general equation for polynomial regression?\n",
    "\n",
    "\n",
    "Y = b_0 + b_1X + b_2X^2 + \\dots + b_nX^n\n",
    "\n",
    "\n"
   ]
  },
  {
   "cell_type": "code",
   "execution_count": null,
   "id": "5dc79c75-3c6e-46ce-b0c0-9ce4fd6d4bc2",
   "metadata": {},
   "outputs": [],
   "source": [
    "27. Can polynomial regression be applied to multiple variables?\n",
    "Yes, it becomes a multivariate polynomial regression.\n",
    "\n"
   ]
  },
  {
   "cell_type": "code",
   "execution_count": null,
   "id": "e5dcd0c8-3ddd-4ec8-8658-57a542f608fe",
   "metadata": {},
   "outputs": [],
   "source": [
    "28. What are the limitations of polynomial regression?\n",
    "\n",
    " Overfitting with high degree\n",
    " Sensitive to outliers\n",
    " Poor extrapolation outside data range\n",
    "\n"
   ]
  },
  {
   "cell_type": "code",
   "execution_count": null,
   "id": "1ea5828f-366c-4ad4-b213-4d4c1e7bd8ae",
   "metadata": {},
   "outputs": [],
   "source": [
    "29. What methods evaluate model fit for choosing polynomial degree?\n",
    "\n",
    " Cross-validation\n",
    " Adjusted R²\n",
    " AIC/BIC\n",
    " RMSE or MAE\n",
    "\n"
   ]
  },
  {
   "cell_type": "code",
   "execution_count": null,
   "id": "627ed3be-031c-400d-9428-6fd72b282aa2",
   "metadata": {},
   "outputs": [],
   "source": [
    "30. Why is visualization important in polynomial regression?\n",
    "To detect overfitting/underfitting and confirm whether the polynomial model captures the trend.\n",
    "\n"
   ]
  },
  {
   "cell_type": "code",
   "execution_count": null,
   "id": "424bcb06-20a5-4e15-a3d2-dba974235b8d",
   "metadata": {},
   "outputs": [],
   "source": [
    "31. How is polynomial regression implemented in Python?\n",
    "Using PolynomialFeatures and LinearRegression from sklearn:\n",
    "\n",
    "python\n",
    "from sklearn.preprocessing import PolynomialFeatures\n",
    "from sklearn.linear_model import LinearRegression\n",
    "from sklearn.pipeline import make_pipeline\n",
    "\n",
    "model = make_pipeline(PolynomialFeatures(degree=2), LinearRegression())\n",
    "model.fit(X, y)\n",
    "\n",
    "\n",
    "\n",
    "\n",
    "Let me know if you’d like a visual or code walkthrough for any of these topics!"
   ]
  },
  {
   "cell_type": "code",
   "execution_count": null,
   "id": "6431bf3d-568d-4904-83ed-263244537e20",
   "metadata": {},
   "outputs": [],
   "source": []
  }
 ],
 "metadata": {
  "kernelspec": {
   "display_name": "Python 3 (ipykernel)",
   "language": "python",
   "name": "python3"
  },
  "language_info": {
   "codemirror_mode": {
    "name": "ipython",
    "version": 3
   },
   "file_extension": ".py",
   "mimetype": "text/x-python",
   "name": "python",
   "nbconvert_exporter": "python",
   "pygments_lexer": "ipython3",
   "version": "3.12.7"
  }
 },
 "nbformat": 4,
 "nbformat_minor": 5
}
